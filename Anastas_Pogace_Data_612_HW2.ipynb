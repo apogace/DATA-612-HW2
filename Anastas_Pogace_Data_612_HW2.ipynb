{
  "nbformat": 4,
  "nbformat_minor": 0,
  "metadata": {
    "colab": {
      "name": "Anastas Pogace Data 612 HW2",
      "provenance": [],
      "collapsed_sections": [],
      "include_colab_link": true
    },
    "kernelspec": {
      "name": "python3",
      "display_name": "Python 3"
    }
  },
  "cells": [
    {
      "cell_type": "markdown",
      "metadata": {
        "id": "view-in-github",
        "colab_type": "text"
      },
      "source": [
        "<a href=\"https://colab.research.google.com/github/apogace/DATA-612-HW2/blob/main/Anastas_Pogace_Data_612_HW2.ipynb\" target=\"_parent\"><img src=\"https://colab.research.google.com/assets/colab-badge.svg\" alt=\"Open In Colab\"/></a>"
      ]
    },
    {
      "cell_type": "markdown",
      "metadata": {
        "id": "qTVw3jQgGaWL"
      },
      "source": [
        "# Assignment for Week 2"
      ]
    },
    {
      "cell_type": "markdown",
      "metadata": {
        "id": "nXTJBBaqGnqN"
      },
      "source": [
        "## Purpose:     \n",
        "This assignment is intended to help you do the following:   \n",
        "1.\tModify and add information on the dataset by adding and calculating new columns     \n",
        "2.\tWork with dates in a dataset       \n",
        "3.\tLearn how to write and save your work as a csv file from Jupyter Notebook.       \n"
      ]
    },
    {
      "cell_type": "markdown",
      "metadata": {
        "id": "KBQPWLNtHJuG"
      },
      "source": [
        "## Action Items:       \n",
        "•\tCreate a new column using the date column.     \n",
        "  1. Find the maximum date of your data.     \n",
        "  2. Subtract all the dates on the column from the maximum date.       \n",
        "  3. Convert the number of days into number of months.       \n",
        "  4. Save the result on a new column and add to the data set.        \n",
        "  5. Save the dataset as a csv file.        \n",
        "  6. Upload the assignment on your GitHub account and Update the README file where you explain everything you did.      "
      ]
    },
    {
      "cell_type": "markdown",
      "metadata": {
        "id": "VMq0alCugsP7"
      },
      "source": [
        "***Anastas Pogace ***\n",
        "\n",
        "> \n",
        "\n"
      ]
    },
    {
      "cell_type": "code",
      "metadata": {
        "colab": {
          "base_uri": "https://localhost:8080/",
          "height": 419
        },
        "id": "EsvQdWDo06xC",
        "outputId": "17ec1801-901e-4bc9-dcb5-7d7d0d4c0053"
      },
      "source": [
        "import pandas as pd \n",
        "df = pd.read_csv('https://raw.githubusercontent.com/frankData612/data_612/master/baseballdatabank-master/core/Salaries.csv')\n",
        "df"
      ],
      "execution_count": 40,
      "outputs": [
        {
          "output_type": "execute_result",
          "data": {
            "text/html": [
              "<div>\n",
              "<style scoped>\n",
              "    .dataframe tbody tr th:only-of-type {\n",
              "        vertical-align: middle;\n",
              "    }\n",
              "\n",
              "    .dataframe tbody tr th {\n",
              "        vertical-align: top;\n",
              "    }\n",
              "\n",
              "    .dataframe thead th {\n",
              "        text-align: right;\n",
              "    }\n",
              "</style>\n",
              "<table border=\"1\" class=\"dataframe\">\n",
              "  <thead>\n",
              "    <tr style=\"text-align: right;\">\n",
              "      <th></th>\n",
              "      <th>yearID</th>\n",
              "      <th>teamID</th>\n",
              "      <th>lgID</th>\n",
              "      <th>playerID</th>\n",
              "      <th>salary</th>\n",
              "    </tr>\n",
              "  </thead>\n",
              "  <tbody>\n",
              "    <tr>\n",
              "      <th>0</th>\n",
              "      <td>1985</td>\n",
              "      <td>ATL</td>\n",
              "      <td>NL</td>\n",
              "      <td>barkele01</td>\n",
              "      <td>870000</td>\n",
              "    </tr>\n",
              "    <tr>\n",
              "      <th>1</th>\n",
              "      <td>1985</td>\n",
              "      <td>ATL</td>\n",
              "      <td>NL</td>\n",
              "      <td>bedrost01</td>\n",
              "      <td>550000</td>\n",
              "    </tr>\n",
              "    <tr>\n",
              "      <th>2</th>\n",
              "      <td>1985</td>\n",
              "      <td>ATL</td>\n",
              "      <td>NL</td>\n",
              "      <td>benedbr01</td>\n",
              "      <td>545000</td>\n",
              "    </tr>\n",
              "    <tr>\n",
              "      <th>3</th>\n",
              "      <td>1985</td>\n",
              "      <td>ATL</td>\n",
              "      <td>NL</td>\n",
              "      <td>campri01</td>\n",
              "      <td>633333</td>\n",
              "    </tr>\n",
              "    <tr>\n",
              "      <th>4</th>\n",
              "      <td>1985</td>\n",
              "      <td>ATL</td>\n",
              "      <td>NL</td>\n",
              "      <td>ceronri01</td>\n",
              "      <td>625000</td>\n",
              "    </tr>\n",
              "    <tr>\n",
              "      <th>...</th>\n",
              "      <td>...</td>\n",
              "      <td>...</td>\n",
              "      <td>...</td>\n",
              "      <td>...</td>\n",
              "      <td>...</td>\n",
              "    </tr>\n",
              "    <tr>\n",
              "      <th>26423</th>\n",
              "      <td>2016</td>\n",
              "      <td>WAS</td>\n",
              "      <td>NL</td>\n",
              "      <td>strasst01</td>\n",
              "      <td>10400000</td>\n",
              "    </tr>\n",
              "    <tr>\n",
              "      <th>26424</th>\n",
              "      <td>2016</td>\n",
              "      <td>WAS</td>\n",
              "      <td>NL</td>\n",
              "      <td>taylomi02</td>\n",
              "      <td>524000</td>\n",
              "    </tr>\n",
              "    <tr>\n",
              "      <th>26425</th>\n",
              "      <td>2016</td>\n",
              "      <td>WAS</td>\n",
              "      <td>NL</td>\n",
              "      <td>treinbl01</td>\n",
              "      <td>524900</td>\n",
              "    </tr>\n",
              "    <tr>\n",
              "      <th>26426</th>\n",
              "      <td>2016</td>\n",
              "      <td>WAS</td>\n",
              "      <td>NL</td>\n",
              "      <td>werthja01</td>\n",
              "      <td>21733615</td>\n",
              "    </tr>\n",
              "    <tr>\n",
              "      <th>26427</th>\n",
              "      <td>2016</td>\n",
              "      <td>WAS</td>\n",
              "      <td>NL</td>\n",
              "      <td>zimmery01</td>\n",
              "      <td>14000000</td>\n",
              "    </tr>\n",
              "  </tbody>\n",
              "</table>\n",
              "<p>26428 rows × 5 columns</p>\n",
              "</div>"
            ],
            "text/plain": [
              "       yearID teamID lgID   playerID    salary\n",
              "0        1985    ATL   NL  barkele01    870000\n",
              "1        1985    ATL   NL  bedrost01    550000\n",
              "2        1985    ATL   NL  benedbr01    545000\n",
              "3        1985    ATL   NL   campri01    633333\n",
              "4        1985    ATL   NL  ceronri01    625000\n",
              "...       ...    ...  ...        ...       ...\n",
              "26423    2016    WAS   NL  strasst01  10400000\n",
              "26424    2016    WAS   NL  taylomi02    524000\n",
              "26425    2016    WAS   NL  treinbl01    524900\n",
              "26426    2016    WAS   NL  werthja01  21733615\n",
              "26427    2016    WAS   NL  zimmery01  14000000\n",
              "\n",
              "[26428 rows x 5 columns]"
            ]
          },
          "metadata": {
            "tags": []
          },
          "execution_count": 40
        }
      ]
    },
    {
      "cell_type": "code",
      "metadata": {
        "colab": {
          "base_uri": "https://localhost:8080/"
        },
        "id": "v6H0X5Aa8tgK",
        "outputId": "3eb8f0d6-4cc0-4b24-981b-ea0f1495d195"
      },
      "source": [
        "df.dtypes"
      ],
      "execution_count": 41,
      "outputs": [
        {
          "output_type": "execute_result",
          "data": {
            "text/plain": [
              "yearID       int64\n",
              "teamID      object\n",
              "lgID        object\n",
              "playerID    object\n",
              "salary       int64\n",
              "dtype: object"
            ]
          },
          "metadata": {
            "tags": []
          },
          "execution_count": 41
        }
      ]
    },
    {
      "cell_type": "code",
      "metadata": {
        "colab": {
          "base_uri": "https://localhost:8080/"
        },
        "id": "9vvlTk1a2Zzq",
        "outputId": "0749bca5-8733-4f23-9738-833c64360327"
      },
      "source": [
        "year = df['yearID']\n",
        "year"
      ],
      "execution_count": 42,
      "outputs": [
        {
          "output_type": "execute_result",
          "data": {
            "text/plain": [
              "0        1985\n",
              "1        1985\n",
              "2        1985\n",
              "3        1985\n",
              "4        1985\n",
              "         ... \n",
              "26423    2016\n",
              "26424    2016\n",
              "26425    2016\n",
              "26426    2016\n",
              "26427    2016\n",
              "Name: yearID, Length: 26428, dtype: int64"
            ]
          },
          "metadata": {
            "tags": []
          },
          "execution_count": 42
        }
      ]
    },
    {
      "cell_type": "markdown",
      "metadata": {
        "id": "tNwYAphp2lny"
      },
      "source": [
        "1. Find the maximum date of your data."
      ]
    },
    {
      "cell_type": "code",
      "metadata": {
        "colab": {
          "base_uri": "https://localhost:8080/"
        },
        "id": "VkMLDzGw2nPL",
        "outputId": "f1a0c915-124a-4bca-b570-d6f0f11e47f1"
      },
      "source": [
        "year.describe()"
      ],
      "execution_count": 43,
      "outputs": [
        {
          "output_type": "execute_result",
          "data": {
            "text/plain": [
              "count    26428.000000\n",
              "mean      2000.878727\n",
              "std          8.909314\n",
              "min       1985.000000\n",
              "25%       1994.000000\n",
              "50%       2001.000000\n",
              "75%       2009.000000\n",
              "max       2016.000000\n",
              "Name: yearID, dtype: float64"
            ]
          },
          "metadata": {
            "tags": []
          },
          "execution_count": 43
        }
      ]
    },
    {
      "cell_type": "code",
      "metadata": {
        "colab": {
          "base_uri": "https://localhost:8080/"
        },
        "id": "RFUoSyCh398C",
        "outputId": "25dced02-c8ef-4d42-acdc-6f9be7df60ff"
      },
      "source": [
        "year.max()"
      ],
      "execution_count": 44,
      "outputs": [
        {
          "output_type": "execute_result",
          "data": {
            "text/plain": [
              "2016"
            ]
          },
          "metadata": {
            "tags": []
          },
          "execution_count": 44
        }
      ]
    },
    {
      "cell_type": "markdown",
      "metadata": {
        "id": "2VIWEHfZ3tBz"
      },
      "source": [
        "2. Subtract all the dates on the column from the maximum date."
      ]
    },
    {
      "cell_type": "code",
      "metadata": {
        "colab": {
          "base_uri": "https://localhost:8080/"
        },
        "id": "Q8BFvhlG3xY0",
        "outputId": "d80e7003-c0d0-4432-e14b-1ea3cd6741a1"
      },
      "source": [
        "neg_year = year - year.max()\n",
        "neg_year.head(5)"
      ],
      "execution_count": 45,
      "outputs": [
        {
          "output_type": "execute_result",
          "data": {
            "text/plain": [
              "0   -31\n",
              "1   -31\n",
              "2   -31\n",
              "3   -31\n",
              "4   -31\n",
              "Name: yearID, dtype: int64"
            ]
          },
          "metadata": {
            "tags": []
          },
          "execution_count": 45
        }
      ]
    },
    {
      "cell_type": "code",
      "metadata": {
        "colab": {
          "base_uri": "https://localhost:8080/"
        },
        "id": "M9DfoLqL4i0T",
        "outputId": "bd2fbe11-3799-4a89-b52e-83e143b2a595"
      },
      "source": [
        "neg_year.tail(5)"
      ],
      "execution_count": 46,
      "outputs": [
        {
          "output_type": "execute_result",
          "data": {
            "text/plain": [
              "26423    0\n",
              "26424    0\n",
              "26425    0\n",
              "26426    0\n",
              "26427    0\n",
              "Name: yearID, dtype: int64"
            ]
          },
          "metadata": {
            "tags": []
          },
          "execution_count": 46
        }
      ]
    },
    {
      "cell_type": "markdown",
      "metadata": {
        "id": "tB2LX_Qb4o_z"
      },
      "source": [
        "3. Convert the number of days into number of months"
      ]
    },
    {
      "cell_type": "code",
      "metadata": {
        "colab": {
          "base_uri": "https://localhost:8080/"
        },
        "id": "snR0LjJn41Xb",
        "outputId": "64e16e24-1202-402c-e92c-9f62b531ac6c"
      },
      "source": [
        "# since my dataset didnt have a 'days' column to convert, I instead converted the salary column from USD to Euros with the convertion rate of 1USD = .82 Euros\n",
        "salary_euro = df.salary * .82\n",
        "salary_euro"
      ],
      "execution_count": 47,
      "outputs": [
        {
          "output_type": "execute_result",
          "data": {
            "text/plain": [
              "0          713400.00\n",
              "1          451000.00\n",
              "2          446900.00\n",
              "3          519333.06\n",
              "4          512500.00\n",
              "            ...     \n",
              "26423     8528000.00\n",
              "26424      429680.00\n",
              "26425      430418.00\n",
              "26426    17821564.30\n",
              "26427    11480000.00\n",
              "Name: salary, Length: 26428, dtype: float64"
            ]
          },
          "metadata": {
            "tags": []
          },
          "execution_count": 47
        }
      ]
    },
    {
      "cell_type": "code",
      "metadata": {
        "colab": {
          "base_uri": "https://localhost:8080/"
        },
        "id": "qczV_urP82yS",
        "outputId": "856d78d1-401d-4b65-e1f4-35bd8cf8bbc6"
      },
      "source": [
        "salary_euro.shape"
      ],
      "execution_count": 48,
      "outputs": [
        {
          "output_type": "execute_result",
          "data": {
            "text/plain": [
              "(26428,)"
            ]
          },
          "metadata": {
            "tags": []
          },
          "execution_count": 48
        }
      ]
    },
    {
      "cell_type": "markdown",
      "metadata": {
        "id": "LPIyggmN6kxj"
      },
      "source": [
        "4. Save the result on a new column and add to the data set."
      ]
    },
    {
      "cell_type": "code",
      "metadata": {
        "colab": {
          "base_uri": "https://localhost:8080/",
          "height": 419
        },
        "id": "al1Dzhxk6qTM",
        "outputId": "8f0c46af-dc3b-43bb-f23f-f0378ecd1779"
      },
      "source": [
        "df['salary(euros)'] = df.salary * .82\n",
        "df"
      ],
      "execution_count": 49,
      "outputs": [
        {
          "output_type": "execute_result",
          "data": {
            "text/html": [
              "<div>\n",
              "<style scoped>\n",
              "    .dataframe tbody tr th:only-of-type {\n",
              "        vertical-align: middle;\n",
              "    }\n",
              "\n",
              "    .dataframe tbody tr th {\n",
              "        vertical-align: top;\n",
              "    }\n",
              "\n",
              "    .dataframe thead th {\n",
              "        text-align: right;\n",
              "    }\n",
              "</style>\n",
              "<table border=\"1\" class=\"dataframe\">\n",
              "  <thead>\n",
              "    <tr style=\"text-align: right;\">\n",
              "      <th></th>\n",
              "      <th>yearID</th>\n",
              "      <th>teamID</th>\n",
              "      <th>lgID</th>\n",
              "      <th>playerID</th>\n",
              "      <th>salary</th>\n",
              "      <th>salary(euros)</th>\n",
              "    </tr>\n",
              "  </thead>\n",
              "  <tbody>\n",
              "    <tr>\n",
              "      <th>0</th>\n",
              "      <td>1985</td>\n",
              "      <td>ATL</td>\n",
              "      <td>NL</td>\n",
              "      <td>barkele01</td>\n",
              "      <td>870000</td>\n",
              "      <td>713400.00</td>\n",
              "    </tr>\n",
              "    <tr>\n",
              "      <th>1</th>\n",
              "      <td>1985</td>\n",
              "      <td>ATL</td>\n",
              "      <td>NL</td>\n",
              "      <td>bedrost01</td>\n",
              "      <td>550000</td>\n",
              "      <td>451000.00</td>\n",
              "    </tr>\n",
              "    <tr>\n",
              "      <th>2</th>\n",
              "      <td>1985</td>\n",
              "      <td>ATL</td>\n",
              "      <td>NL</td>\n",
              "      <td>benedbr01</td>\n",
              "      <td>545000</td>\n",
              "      <td>446900.00</td>\n",
              "    </tr>\n",
              "    <tr>\n",
              "      <th>3</th>\n",
              "      <td>1985</td>\n",
              "      <td>ATL</td>\n",
              "      <td>NL</td>\n",
              "      <td>campri01</td>\n",
              "      <td>633333</td>\n",
              "      <td>519333.06</td>\n",
              "    </tr>\n",
              "    <tr>\n",
              "      <th>4</th>\n",
              "      <td>1985</td>\n",
              "      <td>ATL</td>\n",
              "      <td>NL</td>\n",
              "      <td>ceronri01</td>\n",
              "      <td>625000</td>\n",
              "      <td>512500.00</td>\n",
              "    </tr>\n",
              "    <tr>\n",
              "      <th>...</th>\n",
              "      <td>...</td>\n",
              "      <td>...</td>\n",
              "      <td>...</td>\n",
              "      <td>...</td>\n",
              "      <td>...</td>\n",
              "      <td>...</td>\n",
              "    </tr>\n",
              "    <tr>\n",
              "      <th>26423</th>\n",
              "      <td>2016</td>\n",
              "      <td>WAS</td>\n",
              "      <td>NL</td>\n",
              "      <td>strasst01</td>\n",
              "      <td>10400000</td>\n",
              "      <td>8528000.00</td>\n",
              "    </tr>\n",
              "    <tr>\n",
              "      <th>26424</th>\n",
              "      <td>2016</td>\n",
              "      <td>WAS</td>\n",
              "      <td>NL</td>\n",
              "      <td>taylomi02</td>\n",
              "      <td>524000</td>\n",
              "      <td>429680.00</td>\n",
              "    </tr>\n",
              "    <tr>\n",
              "      <th>26425</th>\n",
              "      <td>2016</td>\n",
              "      <td>WAS</td>\n",
              "      <td>NL</td>\n",
              "      <td>treinbl01</td>\n",
              "      <td>524900</td>\n",
              "      <td>430418.00</td>\n",
              "    </tr>\n",
              "    <tr>\n",
              "      <th>26426</th>\n",
              "      <td>2016</td>\n",
              "      <td>WAS</td>\n",
              "      <td>NL</td>\n",
              "      <td>werthja01</td>\n",
              "      <td>21733615</td>\n",
              "      <td>17821564.30</td>\n",
              "    </tr>\n",
              "    <tr>\n",
              "      <th>26427</th>\n",
              "      <td>2016</td>\n",
              "      <td>WAS</td>\n",
              "      <td>NL</td>\n",
              "      <td>zimmery01</td>\n",
              "      <td>14000000</td>\n",
              "      <td>11480000.00</td>\n",
              "    </tr>\n",
              "  </tbody>\n",
              "</table>\n",
              "<p>26428 rows × 6 columns</p>\n",
              "</div>"
            ],
            "text/plain": [
              "       yearID teamID lgID   playerID    salary  salary(euros)\n",
              "0        1985    ATL   NL  barkele01    870000      713400.00\n",
              "1        1985    ATL   NL  bedrost01    550000      451000.00\n",
              "2        1985    ATL   NL  benedbr01    545000      446900.00\n",
              "3        1985    ATL   NL   campri01    633333      519333.06\n",
              "4        1985    ATL   NL  ceronri01    625000      512500.00\n",
              "...       ...    ...  ...        ...       ...            ...\n",
              "26423    2016    WAS   NL  strasst01  10400000     8528000.00\n",
              "26424    2016    WAS   NL  taylomi02    524000      429680.00\n",
              "26425    2016    WAS   NL  treinbl01    524900      430418.00\n",
              "26426    2016    WAS   NL  werthja01  21733615    17821564.30\n",
              "26427    2016    WAS   NL  zimmery01  14000000    11480000.00\n",
              "\n",
              "[26428 rows x 6 columns]"
            ]
          },
          "metadata": {
            "tags": []
          },
          "execution_count": 49
        }
      ]
    },
    {
      "cell_type": "markdown",
      "metadata": {
        "id": "KqCKuql6_YF_"
      },
      "source": [
        "5. Save the dataset as a csv file."
      ]
    },
    {
      "cell_type": "code",
      "metadata": {
        "id": "uEaCs2Of_aR7"
      },
      "source": [
        "df.to_csv('baseballsalary_altered.csv')"
      ],
      "execution_count": 52,
      "outputs": []
    }
  ]
}